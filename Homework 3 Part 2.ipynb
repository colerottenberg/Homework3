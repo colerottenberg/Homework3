{
 "cells": [
  {
   "cell_type": "markdown",
   "metadata": {},
   "source": [
    "# Homework 3 Part 2\n",
    "\n",
    "**Due: Monday, October 16, 11:59 PM**\n",
    "\n",
    "This is an individual assignment."
   ]
  },
  {
   "cell_type": "markdown",
   "metadata": {},
   "source": [
    "## Description\n",
    "\n",
    "Create or edit this Jupyter Notebook to answer the questions below. Use simulations to answer these questions. An analytical solution can be useful to check if your simulation is correct but analytical solutions alone will not be accepted as a solution to a problem."
   ]
  },
  {
   "cell_type": "code",
   "execution_count": 1,
   "metadata": {},
   "outputs": [],
   "source": [
    "import scipy.stats as stats\n",
    "import numpy as np\n",
    "import numpy.random as npr\n",
    "import matplotlib.pyplot as plt\n",
    "%matplotlib inline\n",
    "plt.style.use('ggplot')"
   ]
  },
  {
   "cell_type": "markdown",
   "metadata": {},
   "source": [
    "## Problem 3\n",
    "\n",
    "**Suppose you have an assortment of coins: 51 coins each with probability of flipping heads $p$, in the interval $[0.3,0.8]$, defined below:**"
   ]
  },
  {
   "cell_type": "code",
   "execution_count": 2,
   "metadata": {
    "tags": []
   },
   "outputs": [
    {
     "data": {
      "text/plain": [
       "array([0.3 , 0.31, 0.32, 0.33, 0.34, 0.35, 0.36, 0.37, 0.38, 0.39, 0.4 ,\n",
       "       0.41, 0.42, 0.43, 0.44, 0.45, 0.46, 0.47, 0.48, 0.49, 0.5 , 0.51,\n",
       "       0.52, 0.53, 0.54, 0.55, 0.56, 0.57, 0.58, 0.59, 0.6 , 0.61, 0.62,\n",
       "       0.63, 0.64, 0.65, 0.66, 0.67, 0.68, 0.69, 0.7 , 0.71, 0.72, 0.73,\n",
       "       0.74, 0.75, 0.76, 0.77, 0.78, 0.79, 0.8 ])"
      ]
     },
     "execution_count": 2,
     "metadata": {},
     "output_type": "execute_result"
    }
   ],
   "source": [
    "import numpy as np\n",
    "allcoins = np.linspace(0.3,0.8,51)  # set of coins\n",
    "\n",
    "allcoins"
   ]
  },
  {
   "cell_type": "markdown",
   "metadata": {},
   "source": [
    "**Consider the experiment where you pick a coin at random and flip it 8 times, and the event \"all tails\" occurs. **\n",
    "\n",
    "1. **What is the probability that the coin is fair?**\n",
    "\n",
    "2. **To answer this question, use a Bayesian hypothesis test to compute the 99\\% CI that contains the set of prior probabilities $p$ for the outcome \"8 tails in 8 flips\".**"
   ]
  },
  {
   "cell_type": "markdown",
   "metadata": {},
   "source": [
    "The proability of flipping 8 tails in 8 flips is given by the binomial distribution: $P(C_i | H_8)$ or $P(C_i) P(H | C_i)$"
   ]
  },
  {
   "cell_type": "code",
   "execution_count": null,
   "metadata": {},
   "outputs": [],
   "source": [
    "P_C_i = 1 / 51"
   ]
  },
  {
   "cell_type": "markdown",
   "metadata": {
    "tags": []
   },
   "source": [
    "## Problem 4\n",
    "\n",
    "Use simulations in Jupyter/Python to answer these questions. You may submit your answers in one or more PDF files of your Jupyter notebooks."
   ]
  },
  {
   "cell_type": "code",
   "execution_count": 4,
   "metadata": {},
   "outputs": [],
   "source": [
    "# Fancy progress bar:\n",
    "# (If this throws an error, then remove this import line and \n",
    "# change trange to range below).\n",
    "#\n",
    "# Note that if you interrupt a block from running, the progress\n",
    "# bar output will get all messed up. Just save and exit your notebook\n",
    "# and reload it to resume with normal progress bar operation\n",
    "\n",
    "from tqdm import trange"
   ]
  },
  {
   "cell_type": "markdown",
   "metadata": {},
   "source": [
    "In Problem 3, we conduct a Bayesian hypothesis test and generate confidence intervals using Bayesian updates.\n",
    "\n",
    "However, the way we drew random values from the *a priori* distribution was pretty awkward because we had not yet introduced random variables.\n",
    "\n",
    "In this problem, you will use random variables to conduct Bayesian statistical tests, but with a variety of *a priori* distributions.\n",
    "\n",
    "Let's begin by redoing the experiment using a uniform random variable (instead of quantizing the interval $[0.3,0.8]$ and randomly choosing one of the quantized values.\n",
    "\n",
    "First, we create our uniform random variable and plot its density function:"
   ]
  },
  {
   "cell_type": "code",
   "execution_count": 5,
   "metadata": {},
   "outputs": [],
   "source": [
    "U=stats.uniform()"
   ]
  },
  {
   "cell_type": "markdown",
   "metadata": {},
   "source": [
    "Now, let's create a new form of the ```exactcoins()``` function that takes as input a random variable and draws the value of ```prob_heads``` from that random variable:\n",
    "\n",
    "1. Finish this function by editing the indicated line to draw a single random variable from $X$:"
   ]
  },
  {
   "cell_type": "code",
   "execution_count": 6,
   "metadata": {},
   "outputs": [
    {
     "data": {
      "image/png": "[encoded data removed]",
      "text/plain": [
       "<Figure size 640x480 with 1 Axes>"
      ]
     },
     "metadata": {},
     "output_type": "display_data"
    }
   ],
   "source": [
    "u=np.linspace(-0.1,1.1,121)\n",
    "plt.step(u,U.pdf(u));"
   ]
  },
  {
   "cell_type": "code",
   "execution_count": 8,
   "metadata": {},
   "outputs": [],
   "source": [
    "# for some of the simulations \n",
    "\n",
    "def exactcoins(X, flips=8, target=-1, num_sims=50000, returnvals=False):\n",
    "    '''\n",
    "    Biased coin flip simulation, where the probability of heads is drawn from a \n",
    "    provided random variable X\n",
    "\n",
    "    Coin is flipped a specified number of times, and all events that match the\n",
    "    target number of heads are recorded. A histogram of the distribution is\n",
    "    also plotted.\n",
    "\n",
    "    Note: In this version, if there are < 25 unique values of the probability\n",
    "    of heads that achieve the target number of flips, then X will be treated as\n",
    "    discrete and the histogram will be normalized as a PMF. Otherwise, X will\n",
    "    be treated as continuous and the histogram will be normalized as a PDF. \n",
    "    '''    \n",
    "    if target==-1:\n",
    "        target=flips\n",
    "    \n",
    "    events=[]\n",
    "    for sim in trange(num_sims):\n",
    "        \n",
    "        prob_heads = npr.choice(allcoins)        \n",
    "        R=npr.uniform(size=flips)\n",
    "        num_heads=np.sum(R<prob_heads)\n",
    "        if num_heads==target:\n",
    "            events+=[prob_heads]\n",
    "            \n",
    "    vals,counts=np.unique(events,return_counts=True)\n",
    "    if len(vals)<25:\n",
    "        plt.bar(vals,counts/len(events),width=0.01)\n",
    "        plt.xlim(0,1)\n",
    "    else:\n",
    "        plt.hist(events,bins=min(len(np.unique(events)),25),density=True)\n",
    "    if returnvals:\n",
    "        return events"
   ]
  },
  {
   "cell_type": "markdown",
   "metadata": {},
   "source": [
    "2. Run ```exactcoins()``` with input random variable that is uniform on $[0,1)$ for 8 flips and 8 heads observed. Show the plot of the output distribution. (Check with the graph from Lecture 7.)"
   ]
  },
  {
   "cell_type": "code",
   "execution_count": 10,
   "metadata": {},
   "outputs": [
    {
     "name": "stderr",
     "output_type": "stream",
     "text": [
      "100%|██████████| 50000/50000 [00:01<00:00, 25239.12it/s]\n"
     ]
    },
    {
     "data": {
      "image/png": "[encoded data removed]",
      "text/plain": [
       "<Figure size 640x480 with 1 Axes>"
      ]
     },
     "metadata": {},
     "output_type": "display_data"
    }
   ],
   "source": [
    "exactcoins(U,8,8,50000);"
   ]
  },
  {
   "cell_type": "code",
   "execution_count": null,
   "metadata": {},
   "outputs": [],
   "source": []
  },
  {
   "cell_type": "markdown",
   "metadata": {},
   "source": [
    "3. Run ```exactcoins()``` with input random variable that is uniform on $[0,1)$ for 8 flips and 1 head observed. Show the plot of the output distribution. (Check with the graph from Lecture 7.)"
   ]
  },
  {
   "cell_type": "code",
   "execution_count": null,
   "metadata": {},
   "outputs": [],
   "source": []
  },
  {
   "cell_type": "code",
   "execution_count": null,
   "metadata": {},
   "outputs": [],
   "source": []
  },
  {
   "cell_type": "markdown",
   "metadata": {},
   "source": [
    "Now let's learn how to generate a random variable with an arbitrary density function. \n",
    "\n",
    "Python is an object-oriented (OO) programming language, and all continuous random variables in ```scipy.stats``` are *subclasses* of the ```stats.rv_continuous``` class.\n",
    "\n",
    "If you don't know OO programming, that is okay. \n",
    "\n",
    "Basically, what this means for us is that we can create a new type of random variable by starting with the ```stats.rv_continuous``` class and then specifying just enough information to specify the new random variable. We will get all the usual methods associated with ```scipy.stats``` random variables without having to implement them all.\n",
    "\n",
    "To do this, we create a *subclass* of ```stats.rv_continuous``` and define a *method* ```_pdf()``` that implements the pdf for the new random variable.\n",
    "\n",
    "Let's implement a random variable that is linear from $a$ to $b$. The pdf will be \n",
    "\n",
    "\\begin{align*}\n",
    "f_X(x) = \\begin{cases} \\frac{2}{(b-a)^2} (x-a), & a \\le x < b\\\\ 0, & \\mbox{otherwise} \\end{cases}\n",
    "\\end{align*}\n",
    "\n",
    "Here is the code to do that:"
   ]
  },
  {
   "cell_type": "code",
   "execution_count": null,
   "metadata": {},
   "outputs": [],
   "source": [
    "class linear (stats.rv_continuous):\n",
    "    def _pdf(self,x):\n",
    "        return 2/(self.b-self.a)**2*(x-self.a)"
   ]
  },
  {
   "cell_type": "code",
   "execution_count": null,
   "metadata": {},
   "outputs": [],
   "source": [
    "X = linear(a=0, b=1)"
   ]
  },
  {
   "cell_type": "code",
   "execution_count": null,
   "metadata": {},
   "outputs": [],
   "source": [
    "x=np.linspace(-0.4,1.4,101)"
   ]
  },
  {
   "cell_type": "code",
   "execution_count": null,
   "metadata": {},
   "outputs": [],
   "source": [
    "plt.plot(x,X.pdf(x));"
   ]
  },
  {
   "cell_type": "markdown",
   "metadata": {},
   "source": [
    "Note that once we create the random variable in this way, we can call all the usual ```scipy.stats``` methods for continuous random variables:"
   ]
  },
  {
   "cell_type": "code",
   "execution_count": null,
   "metadata": {},
   "outputs": [],
   "source": [
    "plt.plot(x,X.cdf(x));"
   ]
  },
  {
   "cell_type": "code",
   "execution_count": null,
   "metadata": {},
   "outputs": [],
   "source": [
    "X.mean()"
   ]
  },
  {
   "cell_type": "code",
   "execution_count": null,
   "metadata": {},
   "outputs": [],
   "source": [
    "X.var()"
   ]
  },
  {
   "cell_type": "code",
   "execution_count": null,
   "metadata": {},
   "outputs": [],
   "source": [
    "X.rvs(size=10)"
   ]
  },
  {
   "cell_type": "markdown",
   "metadata": {},
   "source": [
    "4. Run ```exactcoins()``` with input random variable $X$ for 8 flips and 8 heads observed. Show the plot of the output distribution. Comment on the *a posterior* density compared to that for the uniform input distribution."
   ]
  },
  {
   "cell_type": "code",
   "execution_count": null,
   "metadata": {},
   "outputs": [],
   "source": []
  },
  {
   "cell_type": "code",
   "execution_count": null,
   "metadata": {},
   "outputs": [],
   "source": []
  },
  {
   "cell_type": "markdown",
   "metadata": {},
   "source": [
    "5. Run ```exactcoins()``` with input random variable $X$ for 8 flips and 1 head observed. Show the plot of the output distribution. Comment on  the *a posterior* density compared to that for the uniform input distribution."
   ]
  },
  {
   "cell_type": "code",
   "execution_count": null,
   "metadata": {},
   "outputs": [],
   "source": []
  },
  {
   "cell_type": "code",
   "execution_count": null,
   "metadata": {},
   "outputs": [],
   "source": []
  },
  {
   "cell_type": "markdown",
   "metadata": {},
   "source": [
    "6. Now create a new random variable class with a quadratic density on $[0,1]$. Let the quadratic density be 0 when the input to the density function is 1 and takes its maximum value when the input to the density function is 0\n",
    "\n",
    "(Be sure to figure out the right scaling of the quadratic so the pdf is a valid pdf, that is, it integrates to 1.)\n",
    "\n",
    "Plot the pdf and cdf for your random variable. Check that the cdf is 1 when its argument is 1. Also, show the mean and variance for your random variable."
   ]
  },
  {
   "cell_type": "code",
   "execution_count": null,
   "metadata": {},
   "outputs": [],
   "source": []
  },
  {
   "cell_type": "code",
   "execution_count": null,
   "metadata": {},
   "outputs": [],
   "source": []
  },
  {
   "cell_type": "code",
   "execution_count": null,
   "metadata": {},
   "outputs": [],
   "source": []
  },
  {
   "cell_type": "code",
   "execution_count": null,
   "metadata": {},
   "outputs": [],
   "source": []
  },
  {
   "cell_type": "markdown",
   "metadata": {},
   "source": [
    "7. Run ```exactcoins()``` with this new input random variable for 8 flips and 8 heads observed. Use ```returnvals=True``` and store the output in a variable. Show the plot of the output distribution. "
   ]
  },
  {
   "cell_type": "code",
   "execution_count": null,
   "metadata": {},
   "outputs": [],
   "source": []
  },
  {
   "cell_type": "code",
   "execution_count": null,
   "metadata": {},
   "outputs": [],
   "source": []
  },
  {
   "cell_type": "markdown",
   "metadata": {},
   "source": [
    "8. Use the returned values from part 7) to generate a 99% credible interval. Based on your result, should we reject the possibility that it is fair coin?"
   ]
  },
  {
   "cell_type": "code",
   "execution_count": null,
   "metadata": {},
   "outputs": [],
   "source": []
  },
  {
   "cell_type": "code",
   "execution_count": null,
   "metadata": {},
   "outputs": [],
   "source": []
  },
  {
   "cell_type": "code",
   "execution_count": null,
   "metadata": {},
   "outputs": [],
   "source": []
  },
  {
   "cell_type": "code",
   "execution_count": null,
   "metadata": {},
   "outputs": [],
   "source": []
  },
  {
   "cell_type": "markdown",
   "metadata": {},
   "source": [
    "9. Run ```exactcoins()``` with this new input random variable for 8 flips and 1 head observed. Use ```returnvals=True``` and store the output in a variable. Show the plot of the output distribution. "
   ]
  },
  {
   "cell_type": "code",
   "execution_count": null,
   "metadata": {},
   "outputs": [],
   "source": []
  },
  {
   "cell_type": "code",
   "execution_count": null,
   "metadata": {},
   "outputs": [],
   "source": []
  },
  {
   "cell_type": "markdown",
   "metadata": {},
   "source": [
    "10. Use the returned values from part 9) to generate a 99% credible interval. Based on your result, should we reject the possibility that it is fair coin?"
   ]
  },
  {
   "cell_type": "code",
   "execution_count": null,
   "metadata": {},
   "outputs": [],
   "source": []
  },
  {
   "cell_type": "code",
   "execution_count": null,
   "metadata": {},
   "outputs": [],
   "source": []
  },
  {
   "cell_type": "markdown",
   "metadata": {
    "tags": []
   },
   "source": [
    "# Submission Instructions:\n",
    "\n",
    "When you are done with the exercises in this notebook, upload a PDF or your results to Canvas.  To create the PDF with your code and results, you can use the following procedure:\n",
    "\n",
    "1. Go to Kernel\n",
    "2. Click Restart and Run All\n",
    "3. Check over the notebook to make sure everything still looks right\n",
    "\n",
    "**At this point, you may be able to just choose \"Print\" from JupyterLab's File menu and then print to PDF (OS dependent). If everything is correct in the PDF version, then upload that PDF to the assignment in Canvas.**\n",
    "\n",
    "**If your PDF is missing any of your outputs, you can use the following procedure:**\n",
    "\n",
    "4. Next, click File at the top on the tool bar below Jupyter icon\n",
    "5. Click Save and Export Notebook as... and choose HTML\n",
    "6. The HTML file will either open in a new tab/window or be downloaded to your Downloads folder. Open it if it is in the Downloads folder\n",
    "7. Print the HTML file to PDF (how to do this is OS dependent). Make sure to save it to somewhere you can find it\n",
    "8. Open the PDF to make sure that everything looks right and that nothing is cut off\n",
    "9. Upload both the PDF and ipynb files to the Canvas assignment"
   ]
  },
  {
   "cell_type": "code",
   "execution_count": null,
   "metadata": {},
   "outputs": [],
   "source": []
  }
 ],
 "metadata": {
  "kernelspec": {
   "display_name": "Python 3 (ipykernel)",
   "language": "python",
   "name": "python3"
  },
  "language_info": {
   "codemirror_mode": {
    "name": "ipython",
    "version": 3
   },
   "file_extension": ".py",
   "mimetype": "text/x-python",
   "name": "python",
   "nbconvert_exporter": "python",
   "pygments_lexer": "ipython3",
   "version": "3.11.4"
  },
  "latex_envs": {
   "LaTeX_envs_menu_present": true,
   "autoclose": false,
   "autocomplete": true,
   "bibliofile": "biblio.bib",
   "cite_by": "apalike",
   "current_citInitial": 1,
   "eqLabelWithNumbers": true,
   "eqNumInitial": 1,
   "hotkeys": {
    "equation": "Ctrl-E",
    "itemize": "Ctrl-I"
   },
   "labels_anchors": false,
   "latex_user_defs": false,
   "report_style_numbering": false,
   "user_envs_cfg": false
  },
  "varInspector": {
   "cols": {
    "lenName": 16,
    "lenType": 16,
    "lenVar": 40
   },
   "kernels_config": {
    "python": {
     "delete_cmd_postfix": "",
     "delete_cmd_prefix": "del ",
     "library": "var_list.py",
     "varRefreshCmd": "print(var_dic_list())"
    },
    "r": {
     "delete_cmd_postfix": ") ",
     "delete_cmd_prefix": "rm(",
     "library": "var_list.r",
     "varRefreshCmd": "cat(var_dic_list()) "
    }
   },
   "types_to_exclude": [
    "module",
    "function",
    "builtin_function_or_method",
    "instance",
    "_Feature"
   ],
   "window_display": false
  }
 },
 "nbformat": 4,
 "nbformat_minor": 4
}
